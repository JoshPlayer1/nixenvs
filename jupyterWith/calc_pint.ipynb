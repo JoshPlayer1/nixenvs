{
 "cells": [
  {
   "cell_type": "code",
   "execution_count": 1,
   "metadata": {},
   "outputs": [
    {
     "name": "stdout",
     "output_type": "stream",
     "text": [
      "1.3273228961416876 meter ** 2\n",
      "13.273228961416876 liter\n",
      "16.591536201771095 kilogram\n"
     ]
    }
   ],
   "source": [
    "from pint import UnitRegistry\n",
    "import math\n",
    "u = UnitRegistry()\n",
    "R = 130/2 *u.cm\n",
    "A = math.pi*R**2\n",
    "h = 1 *u.cm\n",
    "V = A*h\n",
    "rho = 1.25 *(u.g/u.cm**3)\n",
    "m = V * rho\n",
    "print(A.to(u.m**2))\n",
    "print(V.to(u.l))\n",
    "print(m.to(u.kg))"
   ]
  },
  {
   "cell_type": "code",
   "execution_count": null,
   "metadata": {},
   "outputs": [],
   "source": []
  }
 ],
 "metadata": {
  "kernelspec": {
   "display_name": "Python3 - python",
   "language": "python",
   "name": "ipython_python"
  },
  "language_info": {
   "codemirror_mode": {
    "name": "ipython",
    "version": 3
   },
   "file_extension": ".py",
   "mimetype": "text/x-python",
   "name": "python",
   "nbconvert_exporter": "python",
   "pygments_lexer": "ipython3",
   "version": "3.7.7"
  }
 },
 "nbformat": 4,
 "nbformat_minor": 4
}
